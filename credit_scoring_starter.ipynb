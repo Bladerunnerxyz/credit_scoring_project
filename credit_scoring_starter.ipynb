{
 "cells": [
  {
   "cell_type": "markdown",
   "id": "0ab14959",
   "metadata": {},
   "source": [
    "# Credit Scoring Model — Starter Notebook\n",
    "This notebook walks you through building a **credit scoring** classifier that predicts whether a customer will **default (1)** or **not default (0)**. You can use the provided synthetic dataset `credit_synthetic.csv` or swap in a real dataset with similar columns.\n",
    "\n",
    "**Steps:** data loading → EDA → preprocessing → baseline models → evaluation → tuning → saving model → inference."
   ]
  },
  {
   "cell_type": "code",
   "execution_count": null,
   "id": "c73edb29",
   "metadata": {},
   "outputs": [],
   "source": [
    "# Imports\n",
    "import warnings; warnings.filterwarnings('ignore')\n",
    "\n",
    "import numpy as np\n",
    "import pandas as pd\n",
    "import matplotlib.pyplot as plt\n",
    "\n",
    "from sklearn.model_selection import train_test_split, StratifiedKFold, cross_val_score, GridSearchCV\n",
    "from sklearn.compose import ColumnTransformer\n",
    "from sklearn.preprocessing import OneHotEncoder, StandardScaler\n",
    "from sklearn.impute import SimpleImputer\n",
    "from sklearn.pipeline import Pipeline\n",
    "from sklearn.linear_model import LogisticRegression\n",
    "from sklearn.tree import DecisionTreeClassifier\n",
    "from sklearn.ensemble import RandomForestClassifier\n",
    "from sklearn.metrics import classification_report, confusion_matrix, roc_auc_score, RocCurveDisplay\n",
    "import joblib\n",
    "\n",
    "DATA_PATH = 'credit_synthetic.csv'  # change to your CSV path if needed\n"
   ]
  },
  {
   "cell_type": "code",
   "execution_count": null,
   "id": "68f50b99",
   "metadata": {},
   "outputs": [],
   "source": [
    "# Load data\n",
    "df = pd.read_csv(DATA_PATH)\n",
    "print(df.shape)\n",
    "df.head()\n"
   ]
  },
  {
   "cell_type": "code",
   "execution_count": null,
   "id": "29e95d5f",
   "metadata": {},
   "outputs": [],
   "source": [
    "# Quick EDA\n",
    "print(\"Columns:\", list(df.columns))\n",
    "print(\"\\nMissing values per column:\\n\", df.isna().sum())\n",
    "print(\"\\nClass balance (0=non-default, 1=default):\\n\", df['default'].value_counts(normalize=True))\n",
    "\n",
    "# Numeric summary\n",
    "df.describe(include='all').T.head(20)\n"
   ]
  },
  {
   "cell_type": "code",
   "execution_count": null,
   "id": "66577517",
   "metadata": {},
   "outputs": [],
   "source": [
    "# Split features/target\n",
    "target = 'default'\n",
    "X = df.drop(columns=[target])\n",
    "y = df[target]\n",
    "\n",
    "numeric_cols = X.select_dtypes(include=[np.number]).columns.tolist()\n",
    "categorical_cols = X.select_dtypes(exclude=[np.number]).columns.tolist()\n",
    "numeric_cols, categorical_cols\n"
   ]
  },
  {
   "cell_type": "code",
   "execution_count": null,
   "id": "3af3dbcf",
   "metadata": {},
   "outputs": [],
   "source": [
    "# Preprocessing: impute + scale numeric, impute + one-hot encode categorical\n",
    "numeric_transformer = Pipeline(steps=[\n",
    "    ('imputer', SimpleImputer(strategy='median')),\n",
    "    ('scaler', StandardScaler())\n",
    "])\n",
    "\n",
    "categorical_transformer = Pipeline(steps=[\n",
    "    ('imputer', SimpleImputer(strategy='most_frequent')),\n",
    "    ('onehot', OneHotEncoder(handle_unknown='ignore'))\n",
    "])\n",
    "\n",
    "preprocess = ColumnTransformer(\n",
    "    transformers=[\n",
    "        ('num', numeric_transformer, numeric_cols),\n",
    "        ('cat', categorical_transformer, categorical_cols)\n",
    "    ]\n",
    ")\n",
    "\n",
    "# Train/test split\n",
    "X_train, X_test, y_train, y_test = train_test_split(\n",
    "    X, y, test_size=0.2, stratify=y, random_state=42\n",
    ")\n",
    "X_train.shape, X_test.shape\n"
   ]
  },
  {
   "cell_type": "code",
   "execution_count": null,
   "id": "46e7a7cd",
   "metadata": {},
   "outputs": [],
   "source": [
    "# Baseline models\n",
    "models = {\n",
    "    'LogisticRegression': LogisticRegression(max_iter=400, class_weight='balanced', random_state=42),\n",
    "    'DecisionTree': DecisionTreeClassifier(class_weight='balanced', random_state=42),\n",
    "    'RandomForest': RandomForestClassifier(class_weight='balanced', n_estimators=200, random_state=42)\n",
    "}\n",
    "\n",
    "scoring = 'roc_auc'\n",
    "cv = StratifiedKFold(n_splits=5, shuffle=True, random_state=42)\n",
    "\n",
    "for name, clf in models.items():\n",
    "    pipe = Pipeline(steps=[('preprocess', preprocess), ('clf', clf)])\n",
    "    scores = cross_val_score(pipe, X_train, y_train, cv=cv, scoring=scoring, n_jobs=-1)\n",
    "    print(f\"{name}: {scoring} CV = {scores.mean():.3f} ± {scores.std():.3f}\")\n"
   ]
  },
  {
   "cell_type": "code",
   "execution_count": null,
   "id": "6b5a589f",
   "metadata": {},
   "outputs": [],
   "source": [
    "# Choose RandomForest (often strong) and evaluate on test\n",
    "best_clf = RandomForestClassifier(class_weight='balanced', n_estimators=300, random_state=42)\n",
    "pipe = Pipeline(steps=[('preprocess', preprocess), ('clf', best_clf)])\n",
    "pipe.fit(X_train, y_train)\n",
    "\n",
    "y_pred = pipe.predict(X_test)\n",
    "y_proba = pipe.predict_proba(X_test)[:, 1]\n",
    "\n",
    "print(classification_report(y_test, y_pred))\n",
    "print(\"ROC-AUC:\", roc_auc_score(y_test, y_proba))\n",
    "\n",
    "# Confusion matrix\n",
    "cm = confusion_matrix(y_test, y_pred)\n",
    "print(\"Confusion Matrix:\\n\", cm)\n",
    "\n",
    "# ROC Curve\n",
    "RocCurveDisplay.from_predictions(y_test, y_proba)\n",
    "plt.title(\"ROC Curve — RandomForest\")\n",
    "plt.show()\n"
   ]
  },
  {
   "cell_type": "code",
   "execution_count": null,
   "id": "1ff127be",
   "metadata": {},
   "outputs": [],
   "source": [
    "# Hyperparameter tuning (quick grid)\n",
    "param_grid = {\n",
    "    'clf__n_estimators': [200, 400],\n",
    "    'clf__max_depth': [None, 8, 12],\n",
    "    'clf__min_samples_split': [2, 10, 20],\n",
    "    'clf__max_features': ['sqrt', 'log2']\n",
    "}\n",
    "\n",
    "grid = GridSearchCV(\n",
    "    Pipeline([('preprocess', preprocess), ('clf', RandomForestClassifier(class_weight='balanced', random_state=42))]),\n",
    "    param_grid=param_grid, scoring='roc_auc', cv=3, n_jobs=-1, verbose=1\n",
    ")\n",
    "grid.fit(X_train, y_train)\n",
    "\n",
    "print(\"Best params:\", grid.best_params_)\n",
    "print(\"Best CV ROC-AUC:\", grid.best_score_)\n",
    "\n",
    "best_model = grid.best_estimator_\n",
    "y_proba = best_model.predict_proba(X_test)[:, 1]\n",
    "print(\"Test ROC-AUC with tuned model:\", roc_auc_score(y_test, y_proba))\n"
   ]
  },
  {
   "cell_type": "code",
   "execution_count": null,
   "id": "3759911c",
   "metadata": {},
   "outputs": [],
   "source": [
    "# Save the tuned model\n",
    "Path('models').mkdir(exist_ok=True)\n",
    "joblib.dump(best_model, 'models/credit_scoring_model.joblib')\n",
    "\n",
    "# Example: load and predict on a single applicant\n",
    "loaded = joblib.load('models/credit_scoring_model.joblib')\n",
    "\n",
    "example = pd.DataFrame([{\n",
    "    'age': 30, 'annual_income_inr': 800000, 'debt_to_income': 0.35, 'credit_utilization': 0.4,\n",
    "    'late_payments_12m': 1, 'accounts_open': 5, 'loan_amount_inr': 150000,\n",
    "    'employment_length_years': 3, 'has_mortgage': 0, 'is_self_employed': 0,\n",
    "    'region': 'South', 'payment_history_score': 0.72\n",
    "}])\n",
    "\n",
    "prob_default = loaded.predict_proba(example)[:, 1][0]\n",
    "print(f\"Predicted probability of default: {prob_default:.3f}\")\n"
   ]
  }
 ],
 "metadata": {},
 "nbformat": 4,
 "nbformat_minor": 5
}
